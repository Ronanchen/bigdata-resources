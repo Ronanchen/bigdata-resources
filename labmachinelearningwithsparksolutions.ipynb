{
 "cells": [
  {
   "cell_type": "markdown",
   "metadata": {},
   "source": [
    "# Lab: Spark Machine Learning\n",
    "\n",
    "In this lab, you will build a simple ML pipeline and model with Spark Machine Learning."
   ]
  },
  {
   "cell_type": "markdown",
   "metadata": {},
   "source": [
    "Start your SparkSession:"
   ]
  },
  {
   "cell_type": "code",
   "execution_count": 1,
   "metadata": {},
   "outputs": [],
   "source": [
    "import findspark\n",
    "findspark.init()\n",
    "from pyspark.sql import SparkSession\n",
    "spark = SparkSession.builder.appName(\"lab-ml\").getOrCreate()"
   ]
  },
  {
   "cell_type": "code",
   "execution_count": 2,
   "metadata": {},
   "outputs": [
    {
     "data": {
      "text/html": [
       "\n",
       "            <div>\n",
       "                <p><b>SparkSession - in-memory</b></p>\n",
       "                \n",
       "        <div>\n",
       "            <p><b>SparkContext</b></p>\n",
       "\n",
       "            <p><a href=\"http://ip-172-31-34-152.ec2.internal:4040\">Spark UI</a></p>\n",
       "\n",
       "            <dl>\n",
       "              <dt>Version</dt>\n",
       "                <dd><code>v2.4.2</code></dd>\n",
       "              <dt>Master</dt>\n",
       "                <dd><code>yarn</code></dd>\n",
       "              <dt>AppName</dt>\n",
       "                <dd><code>lab-ml</code></dd>\n",
       "            </dl>\n",
       "        </div>\n",
       "        \n",
       "            </div>\n",
       "        "
      ],
      "text/plain": [
       "<pyspark.sql.session.SparkSession at 0x7fb6ff7cf588>"
      ]
     },
     "execution_count": 2,
     "metadata": {},
     "output_type": "execute_result"
    }
   ],
   "source": [
    "spark"
   ]
  },
  {
   "cell_type": "markdown",
   "metadata": {},
   "source": [
    "<a id=\"load\"></a>\n",
    "## 1. Load and explore data"
   ]
  },
  {
   "cell_type": "markdown",
   "metadata": {},
   "source": [
    "Load the file `s3://bigdatateaching/misc/gosales_tx_naivebayes.csv` into a DataFrame:"
   ]
  },
  {
   "cell_type": "code",
   "execution_count": 3,
   "metadata": {},
   "outputs": [],
   "source": [
    "df_data = spark.read\\\n",
    "  .format('csv')\\\n",
    "  .option('header', 'true')\\\n",
    "  .option('inferSchema', 'true')\\\n",
    "  .load('s3://bigdatateaching/misc/gosales_tx_naivebayes.csv')"
   ]
  },
  {
   "cell_type": "markdown",
   "metadata": {},
   "source": [
    "Print the schema of the DataFrame"
   ]
  },
  {
   "cell_type": "code",
   "execution_count": 4,
   "metadata": {},
   "outputs": [
    {
     "name": "stdout",
     "output_type": "stream",
     "text": [
      "root\n",
      " |-- PRODUCT_LINE: string (nullable = true)\n",
      " |-- GENDER: string (nullable = true)\n",
      " |-- AGE: integer (nullable = true)\n",
      " |-- MARITAL_STATUS: string (nullable = true)\n",
      " |-- PROFESSION: string (nullable = true)\n",
      "\n"
     ]
    }
   ],
   "source": [
    "df_data.printSchema()"
   ]
  },
  {
   "cell_type": "markdown",
   "metadata": {},
   "source": [
    "Print the first few records:"
   ]
  },
  {
   "cell_type": "code",
   "execution_count": 5,
   "metadata": {},
   "outputs": [
    {
     "name": "stdout",
     "output_type": "stream",
     "text": [
      "+--------------------+------+---+--------------+------------+\n",
      "|        PRODUCT_LINE|GENDER|AGE|MARITAL_STATUS|  PROFESSION|\n",
      "+--------------------+------+---+--------------+------------+\n",
      "|Personal Accessories|     M| 27|        Single|Professional|\n",
      "|Personal Accessories|     F| 39|       Married|       Other|\n",
      "|Mountaineering Eq...|     F| 39|       Married|       Other|\n",
      "|Personal Accessories|     F| 56|   Unspecified| Hospitality|\n",
      "|      Golf Equipment|     M| 45|       Married|     Retired|\n",
      "|      Golf Equipment|     M| 45|       Married|     Retired|\n",
      "|   Camping Equipment|     F| 39|       Married|       Other|\n",
      "|   Camping Equipment|     F| 49|       Married|       Other|\n",
      "|  Outdoor Protection|     F| 49|       Married|       Other|\n",
      "|      Golf Equipment|     M| 47|       Married|     Retired|\n",
      "|      Golf Equipment|     M| 47|       Married|     Retired|\n",
      "|Mountaineering Eq...|     M| 21|        Single|      Retail|\n",
      "|Personal Accessories|     F| 66|       Married|       Other|\n",
      "|   Camping Equipment|     F| 35|       Married|Professional|\n",
      "|Mountaineering Eq...|     M| 20|        Single|       Sales|\n",
      "|Mountaineering Eq...|     M| 20|        Single|       Sales|\n",
      "|Mountaineering Eq...|     M| 20|        Single|       Sales|\n",
      "|Personal Accessories|     F| 37|        Single|       Other|\n",
      "|   Camping Equipment|     M| 42|       Married|       Other|\n",
      "|   Camping Equipment|     F| 24|       Married|      Retail|\n",
      "+--------------------+------+---+--------------+------------+\n",
      "only showing top 20 rows\n",
      "\n"
     ]
    }
   ],
   "source": [
    "df_data.show()"
   ]
  },
  {
   "cell_type": "markdown",
   "metadata": {},
   "source": [
    "Count the number of records:"
   ]
  },
  {
   "cell_type": "code",
   "execution_count": 6,
   "metadata": {},
   "outputs": [
    {
     "name": "stdout",
     "output_type": "stream",
     "text": [
      "Number of records: 60252\n"
     ]
    }
   ],
   "source": [
    "print(\"Number of records: \" + str(df_data.count()))"
   ]
  },
  {
   "cell_type": "markdown",
   "metadata": {},
   "source": [
    "### 2.1: Prepare data\n",
    "\n",
    "In this subsection you will split your data into: train, test and predict datasets. Create three splits of  `df_data` (train, test, predict) by using the `randomSplit` method:"
   ]
  },
  {
   "cell_type": "code",
   "execution_count": 7,
   "metadata": {},
   "outputs": [
    {
     "name": "stdout",
     "output_type": "stream",
     "text": [
      "Number of training records: 48176\n",
      "Number of testing records : 10860\n",
      "Number of prediction records : 1216\n"
     ]
    }
   ],
   "source": [
    "splitted_data = df_data.randomSplit([0.8, 0.18, 0.02], 24)\n",
    "train_data = splitted_data[0]\n",
    "test_data = splitted_data[1]\n",
    "predict_data = splitted_data[2]\n",
    "\n",
    "print(\"Number of training records: \" + str(train_data.count()))\n",
    "print(\"Number of testing records : \" + str(test_data.count()))\n",
    "print(\"Number of prediction records : \" + str(predict_data.count()))"
   ]
  },
  {
   "cell_type": "markdown",
   "metadata": {},
   "source": [
    "### 2.2: Create pipeline and train a model"
   ]
  },
  {
   "cell_type": "markdown",
   "metadata": {},
   "source": [
    "For this lab, your job is to build a model that classifies the `PRODUCT_LINE`. In this section you will create a machine learning pipeline and then train the model. The next cell imports all the packages you will need:"
   ]
  },
  {
   "cell_type": "code",
   "execution_count": 8,
   "metadata": {},
   "outputs": [],
   "source": [
    "from pyspark.ml.feature import OneHotEncoder, StringIndexer, IndexToString, VectorAssembler\n",
    "from pyspark.ml.classification import RandomForestClassifier\n",
    "from pyspark.ml.evaluation import MulticlassClassificationEvaluator\n",
    "from pyspark.ml import Pipeline, Model"
   ]
  },
  {
   "cell_type": "markdown",
   "metadata": {},
   "source": [
    "In the following step, convert all the string fields to numeric ones. Look at the DataFrame structure to determine which ones you need to convert. Use the `StringIndexer` transformer. You need to create a transformer for each columnt you want to modify."
   ]
  },
  {
   "cell_type": "code",
   "execution_count": 9,
   "metadata": {},
   "outputs": [],
   "source": [
    "stringIndexer_label = StringIndexer(inputCol=\"PRODUCT_LINE\", outputCol=\"label\")#.fit(df_data)\n",
    "stringIndexer_prof = StringIndexer(inputCol=\"PROFESSION\", outputCol=\"PROFESSION_IX\")\n",
    "stringIndexer_gend = StringIndexer(inputCol=\"GENDER\", outputCol=\"GENDER_IX\")\n",
    "stringIndexer_mar = StringIndexer(inputCol=\"MARITAL_STATUS\", outputCol=\"MARITAL_STATUS_IX\")"
   ]
  },
  {
   "cell_type": "markdown",
   "metadata": {},
   "source": [
    "Try looking at the values for one of the re-encoded columns using the `labels` method. Does it work?"
   ]
  },
  {
   "cell_type": "code",
   "execution_count": 10,
   "metadata": {},
   "outputs": [
    {
     "ename": "AttributeError",
     "evalue": "'StringIndexer' object has no attribute 'labels'",
     "output_type": "error",
     "traceback": [
      "\u001b[0;31m---------------------------------------------------------------------------\u001b[0m",
      "\u001b[0;31mAttributeError\u001b[0m                            Traceback (most recent call last)",
      "\u001b[0;32m<ipython-input-10-50272f5129df>\u001b[0m in \u001b[0;36m<module>\u001b[0;34m\u001b[0m\n\u001b[0;32m----> 1\u001b[0;31m \u001b[0mstringIndexer_label\u001b[0m\u001b[0;34m.\u001b[0m\u001b[0mlabels\u001b[0m\u001b[0;34m\u001b[0m\u001b[0;34m\u001b[0m\u001b[0m\n\u001b[0m",
      "\u001b[0;31mAttributeError\u001b[0m: 'StringIndexer' object has no attribute 'labels'"
     ]
    }
   ],
   "source": [
    "stringIndexer_label.labels"
   ]
  },
  {
   "cell_type": "markdown",
   "metadata": {},
   "source": [
    "To see the values, the transformer needs to be executed first, and you can do so by using the `fit` method. Try now:"
   ]
  },
  {
   "cell_type": "code",
   "execution_count": 11,
   "metadata": {},
   "outputs": [],
   "source": [
    "si_label_fit = StringIndexer(inputCol=\"PRODUCT_LINE\", outputCol=\"label\").fit(df_data)"
   ]
  },
  {
   "cell_type": "code",
   "execution_count": 12,
   "metadata": {},
   "outputs": [
    {
     "data": {
      "text/plain": [
       "['Camping Equipment',\n",
       " 'Personal Accessories',\n",
       " 'Mountaineering Equipment',\n",
       " 'Golf Equipment',\n",
       " 'Outdoor Protection']"
      ]
     },
     "execution_count": 12,
     "metadata": {},
     "output_type": "execute_result"
    }
   ],
   "source": [
    "si_label_fit.labels"
   ]
  },
  {
   "cell_type": "markdown",
   "metadata": {},
   "source": [
    "In the following step, create a feature vector by combining all string features together usinf the `vectorAssembler` method:"
   ]
  },
  {
   "cell_type": "code",
   "execution_count": 13,
   "metadata": {},
   "outputs": [],
   "source": [
    "vectorAssembler_features = VectorAssembler(\n",
    "    inputCols=[\"GENDER_IX\", \n",
    "               \"AGE\", \n",
    "               \"MARITAL_STATUS_IX\", \n",
    "               \"PROFESSION_IX\"], \n",
    "    outputCol=\"features\")"
   ]
  },
  {
   "cell_type": "code",
   "execution_count": 25,
   "metadata": {},
   "outputs": [
    {
     "data": {
      "text/plain": [
       "Param(parent='VectorAssembler_9cfff512691f', name='inputCols', doc='input column names.')"
      ]
     },
     "execution_count": 25,
     "metadata": {},
     "output_type": "execute_result"
    }
   ],
   "source": [
    "vectorAssembler_features"
   ]
  },
  {
   "cell_type": "markdown",
   "metadata": {},
   "source": [
    "Next, define estimators you want to use for classification. You will build a Random Forest using the `RandomForestClassifier` estimator:"
   ]
  },
  {
   "cell_type": "code",
   "execution_count": 15,
   "metadata": {},
   "outputs": [],
   "source": [
    "rf = RandomForestClassifier(labelCol=\"label\", featuresCol=\"features\")"
   ]
  },
  {
   "cell_type": "markdown",
   "metadata": {},
   "source": [
    "Finally, indexed labels back to original labels."
   ]
  },
  {
   "cell_type": "code",
   "execution_count": 16,
   "metadata": {},
   "outputs": [],
   "source": [
    "labelConverter = IndexToString(inputCol=\"prediction\", \n",
    "                               outputCol=\"predictedLabel\", \n",
    "                               labels=stringIndexer_label.fit(df_data).labels)"
   ]
  },
  {
   "cell_type": "markdown",
   "metadata": {},
   "source": [
    "Let's build the pipeline now. A pipeline consists of transformers and an estimator."
   ]
  },
  {
   "cell_type": "code",
   "execution_count": 17,
   "metadata": {},
   "outputs": [],
   "source": [
    "pipeline_rf = Pipeline(stages=[stringIndexer_label, \n",
    "                               stringIndexer_prof, \n",
    "                               stringIndexer_gend, \n",
    "                               stringIndexer_mar, \n",
    "                               vectorAssembler_features, \n",
    "                               rf, labelConverter])"
   ]
  },
  {
   "cell_type": "markdown",
   "metadata": {},
   "source": [
    "Now, you can train your Random Forest model by using the previously defined **pipeline** and **train data**."
   ]
  },
  {
   "cell_type": "code",
   "execution_count": 18,
   "metadata": {},
   "outputs": [
    {
     "name": "stdout",
     "output_type": "stream",
     "text": [
      "root\n",
      " |-- PRODUCT_LINE: string (nullable = true)\n",
      " |-- GENDER: string (nullable = true)\n",
      " |-- AGE: integer (nullable = true)\n",
      " |-- MARITAL_STATUS: string (nullable = true)\n",
      " |-- PROFESSION: string (nullable = true)\n",
      "\n"
     ]
    }
   ],
   "source": [
    "train_data.printSchema()"
   ]
  },
  {
   "cell_type": "code",
   "execution_count": 19,
   "metadata": {},
   "outputs": [
    {
     "name": "stdout",
     "output_type": "stream",
     "text": [
      "+-----------------+------+---+--------------+-----------+\n",
      "|     PRODUCT_LINE|GENDER|AGE|MARITAL_STATUS| PROFESSION|\n",
      "+-----------------+------+---+--------------+-----------+\n",
      "|Camping Equipment|     F| 18|        Single|      Other|\n",
      "|Camping Equipment|     F| 18|        Single|      Other|\n",
      "|Camping Equipment|     F| 18|        Single|     Retail|\n",
      "|Camping Equipment|     F| 18|        Single|     Retail|\n",
      "|Camping Equipment|     F| 19|        Single|Hospitality|\n",
      "|Camping Equipment|     F| 19|        Single|Hospitality|\n",
      "|Camping Equipment|     F| 19|        Single|Hospitality|\n",
      "|Camping Equipment|     F| 19|        Single|Hospitality|\n",
      "|Camping Equipment|     F| 19|        Single|Hospitality|\n",
      "|Camping Equipment|     F| 19|        Single|Hospitality|\n",
      "|Camping Equipment|     F| 19|        Single|Hospitality|\n",
      "|Camping Equipment|     F| 19|        Single|Hospitality|\n",
      "|Camping Equipment|     F| 19|        Single|Hospitality|\n",
      "|Camping Equipment|     F| 19|        Single|Hospitality|\n",
      "|Camping Equipment|     F| 19|        Single|Hospitality|\n",
      "|Camping Equipment|     F| 19|        Single|Hospitality|\n",
      "|Camping Equipment|     F| 19|        Single|Hospitality|\n",
      "|Camping Equipment|     F| 19|        Single|Hospitality|\n",
      "|Camping Equipment|     F| 19|        Single|Hospitality|\n",
      "|Camping Equipment|     F| 19|        Single|Hospitality|\n",
      "+-----------------+------+---+--------------+-----------+\n",
      "only showing top 20 rows\n",
      "\n"
     ]
    }
   ],
   "source": [
    "train_data.show()"
   ]
  },
  {
   "cell_type": "code",
   "execution_count": 20,
   "metadata": {},
   "outputs": [],
   "source": [
    "model_rf = pipeline_rf.fit(train_data)"
   ]
  },
  {
   "cell_type": "code",
   "execution_count": null,
   "metadata": {},
   "outputs": [],
   "source": []
  },
  {
   "cell_type": "markdown",
   "metadata": {},
   "source": [
    "You can check your **model accuracy** now. To evaluate the model, use **test data**."
   ]
  },
  {
   "cell_type": "code",
   "execution_count": 21,
   "metadata": {},
   "outputs": [
    {
     "name": "stdout",
     "output_type": "stream",
     "text": [
      "Accuracy = 0.584807\n",
      "Test Error = 0.415193\n"
     ]
    }
   ],
   "source": [
    "predictions = model_rf.transform(test_data)\n",
    "evaluatorRF = MulticlassClassificationEvaluator(labelCol=\"label\", predictionCol=\"prediction\", metricName=\"accuracy\")\n",
    "accuracy = evaluatorRF.evaluate(predictions)\n",
    "\n",
    "print(\"Accuracy = %g\" % accuracy)\n",
    "print(\"Test Error = %g\" % (1.0 - accuracy))"
   ]
  },
  {
   "cell_type": "code",
   "execution_count": 22,
   "metadata": {},
   "outputs": [
    {
     "name": "stdout",
     "output_type": "stream",
     "text": [
      "+-----------------+------+---+--------------+-----------+-----+-------------+---------+-----------------+------------------+--------------------+--------------------+----------+--------------------+\n",
      "|     PRODUCT_LINE|GENDER|AGE|MARITAL_STATUS| PROFESSION|label|PROFESSION_IX|GENDER_IX|MARITAL_STATUS_IX|          features|       rawPrediction|         probability|prediction|      predictedLabel|\n",
      "+-----------------+------+---+--------------+-----------+-----+-------------+---------+-----------------+------------------+--------------------+--------------------+----------+--------------------+\n",
      "|Camping Equipment|     F| 18|        Single|      Other|  0.0|          0.0|      1.0|              1.0|[1.0,18.0,1.0,0.0]|[4.33081888741225...|[0.21654094437061...|       1.0|Personal Accessories|\n",
      "|Camping Equipment|     F| 18|        Single|     Retail|  0.0|          7.0|      1.0|              1.0|[1.0,18.0,1.0,7.0]|[3.67155294270736...|[0.18357764713536...|       1.0|Personal Accessories|\n",
      "|Camping Equipment|     F| 19|        Single|Hospitality|  0.0|          5.0|      1.0|              1.0|[1.0,19.0,1.0,5.0]|[9.65091291348915...|[0.48254564567445...|       0.0|   Camping Equipment|\n",
      "|Camping Equipment|     F| 19|        Single|Hospitality|  0.0|          5.0|      1.0|              1.0|[1.0,19.0,1.0,5.0]|[9.65091291348915...|[0.48254564567445...|       0.0|   Camping Equipment|\n",
      "|Camping Equipment|     F| 19|        Single|Hospitality|  0.0|          5.0|      1.0|              1.0|[1.0,19.0,1.0,5.0]|[9.65091291348915...|[0.48254564567445...|       0.0|   Camping Equipment|\n",
      "|Camping Equipment|     F| 19|        Single|Hospitality|  0.0|          5.0|      1.0|              1.0|[1.0,19.0,1.0,5.0]|[9.65091291348915...|[0.48254564567445...|       0.0|   Camping Equipment|\n",
      "|Camping Equipment|     F| 19|        Single|      Other|  0.0|          0.0|      1.0|              1.0|[1.0,19.0,1.0,0.0]|[4.33081888741225...|[0.21654094437061...|       1.0|Personal Accessories|\n",
      "|Camping Equipment|     F| 19|        Single|      Other|  0.0|          0.0|      1.0|              1.0|[1.0,19.0,1.0,0.0]|[4.33081888741225...|[0.21654094437061...|       1.0|Personal Accessories|\n",
      "|Camping Equipment|     F| 19|        Single|      Other|  0.0|          0.0|      1.0|              1.0|[1.0,19.0,1.0,0.0]|[4.33081888741225...|[0.21654094437061...|       1.0|Personal Accessories|\n",
      "|Camping Equipment|     F| 19|        Single|      Other|  0.0|          0.0|      1.0|              1.0|[1.0,19.0,1.0,0.0]|[4.33081888741225...|[0.21654094437061...|       1.0|Personal Accessories|\n",
      "|Camping Equipment|     F| 19|        Single|      Other|  0.0|          0.0|      1.0|              1.0|[1.0,19.0,1.0,0.0]|[4.33081888741225...|[0.21654094437061...|       1.0|Personal Accessories|\n",
      "|Camping Equipment|     F| 19|        Single|      Other|  0.0|          0.0|      1.0|              1.0|[1.0,19.0,1.0,0.0]|[4.33081888741225...|[0.21654094437061...|       1.0|Personal Accessories|\n",
      "|Camping Equipment|     F| 19|        Single|      Other|  0.0|          0.0|      1.0|              1.0|[1.0,19.0,1.0,0.0]|[4.33081888741225...|[0.21654094437061...|       1.0|Personal Accessories|\n",
      "|Camping Equipment|     F| 19|        Single|      Other|  0.0|          0.0|      1.0|              1.0|[1.0,19.0,1.0,0.0]|[4.33081888741225...|[0.21654094437061...|       1.0|Personal Accessories|\n",
      "|Camping Equipment|     F| 19|        Single|      Other|  0.0|          0.0|      1.0|              1.0|[1.0,19.0,1.0,0.0]|[4.33081888741225...|[0.21654094437061...|       1.0|Personal Accessories|\n",
      "|Camping Equipment|     F| 19|        Single|      Other|  0.0|          0.0|      1.0|              1.0|[1.0,19.0,1.0,0.0]|[4.33081888741225...|[0.21654094437061...|       1.0|Personal Accessories|\n",
      "|Camping Equipment|     F| 19|        Single|      Other|  0.0|          0.0|      1.0|              1.0|[1.0,19.0,1.0,0.0]|[4.33081888741225...|[0.21654094437061...|       1.0|Personal Accessories|\n",
      "|Camping Equipment|     F| 19|        Single|      Other|  0.0|          0.0|      1.0|              1.0|[1.0,19.0,1.0,0.0]|[4.33081888741225...|[0.21654094437061...|       1.0|Personal Accessories|\n",
      "|Camping Equipment|     F| 19|        Single|      Other|  0.0|          0.0|      1.0|              1.0|[1.0,19.0,1.0,0.0]|[4.33081888741225...|[0.21654094437061...|       1.0|Personal Accessories|\n",
      "|Camping Equipment|     F| 19|        Single|      Other|  0.0|          0.0|      1.0|              1.0|[1.0,19.0,1.0,0.0]|[4.33081888741225...|[0.21654094437061...|       1.0|Personal Accessories|\n",
      "+-----------------+------+---+--------------+-----------+-----+-------------+---------+-----------------+------------------+--------------------+--------------------+----------+--------------------+\n",
      "only showing top 20 rows\n",
      "\n"
     ]
    }
   ],
   "source": [
    "predictions.show()"
   ]
  },
  {
   "cell_type": "markdown",
   "metadata": {},
   "source": [
    "Adapted from [this notebook from IBM Watson.](https://dataplatform.ibm.com/analytics/notebooks/89492fd6-a641-4819-9176-3d9381561df9/view?access_token=d80bef1a172d1d83d3721b101886337158457281774186f181a2e6a5b57f5ec7#)"
   ]
  }
 ],
 "metadata": {
  "kernelspec": {
   "display_name": "Python 3",
   "language": "python",
   "name": "python3"
  },
  "language_info": {
   "codemirror_mode": {
    "name": "ipython",
    "version": 3
   },
   "file_extension": ".py",
   "mimetype": "text/x-python",
   "name": "python",
   "nbconvert_exporter": "python",
   "pygments_lexer": "ipython3",
   "version": "3.6.8"
  }
 },
 "nbformat": 4,
 "nbformat_minor": 2
}
